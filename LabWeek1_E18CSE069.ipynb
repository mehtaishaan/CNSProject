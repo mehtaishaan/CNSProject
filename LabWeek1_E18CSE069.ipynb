{
  "nbformat": 4,
  "nbformat_minor": 0,
  "metadata": {
    "colab": {
      "name": "LabWeek1_E18CSE069",
      "provenance": [],
      "authorship_tag": "ABX9TyOXEk+SVCjGsD5abE2cE17l",
      "include_colab_link": true
    },
    "kernelspec": {
      "name": "python3",
      "display_name": "Python 3"
    }
  },
  "cells": [
    {
      "cell_type": "markdown",
      "metadata": {
        "id": "view-in-github",
        "colab_type": "text"
      },
      "source": [
        "<a href=\"https://colab.research.google.com/github/mehtaishaan0626/CNSProject/blob/main/LabWeek1_E18CSE069.ipynb\" target=\"_parent\"><img src=\"https://colab.research.google.com/assets/colab-badge.svg\" alt=\"Open In Colab\"/></a>"
      ]
    },
    {
      "cell_type": "markdown",
      "metadata": {
        "id": "mDMGwMn1jaLy"
      },
      "source": [
        "Ishaan Mehta EB02"
      ]
    },
    {
      "cell_type": "markdown",
      "metadata": {
        "id": "JSJnO3kPjnua"
      },
      "source": [
        "HPC Lab Week 1"
      ]
    },
    {
      "cell_type": "code",
      "metadata": {
        "id": "Oay8wQh3jCr3"
      },
      "source": [
        ""
      ],
      "execution_count": null,
      "outputs": []
    }
  ]
}